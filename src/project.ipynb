{
  "metadata": {
    "kernelspec": {
      "name": "python",
      "display_name": "Python (Pyodide)",
      "language": "python"
    },
    "language_info": {
      "codemirror_mode": {
        "name": "python",
        "version": 3
      },
      "file_extension": ".py",
      "mimetype": "text/x-python",
      "name": "python",
      "nbconvert_exporter": "python",
      "pygments_lexer": "ipython3",
      "version": "3.8"
    },
    "widgets": {
      "application/vnd.jupyter.widget-state+json": {
        "version_major": 2,
        "version_minor": 0,
        "state": {}
      }
    }
  },
  "nbformat_minor": 4,
  "nbformat": 4,
  "cells": [
    {
      "cell_type": "markdown",
      "source": "# Asset classes\n\nThis investigation continues the work done in the previous assignment.\n\n## Part 1\n\nThis section reiterates the information about the datasets used.\n\n### S&P 500 Index Total Returns\n\n1. __Title:__ S&P 500 Total Returns (SP500)\n2. __URL:__ [https://www.slickcharts.com/sp500/returns](https://www.slickcharts.com/sp500/returns)\n3. __Source:__\n   * __Source:__ Slickcharts\n   * __Publisher:__ S&P Dow Jones Indices LLC\n   * __Publication date:__ 2025-02-12\n   * __Access date:__ 2025-02-13\n4. __License:__ Standard & Poors Release\n5. __Usable:__ Yes\n\n### ICE BofA U.S. Corporate Index\n\n1. __Title:__ ICE BofA US Corporate Index Total Return Index Value ([BAMLCC0A0CMTRIV](https://fred.stlouisfed.org/series/BAMLCC0A0CMTRIV))\n2. __URL:__ [https://fred.stlouisfed.org/series/BAMLCC0A0CMTRIV](https://fred.stlouisfed.org/series/BAMLCC0A0CMTRIV)\n3. __Source:__\n   * __Source:__ FRED, the Federal Reserve Bank of St. Louis \n   * __Publisher:__ Ice Data Indices, LLC\n   * __Publication date:__ 2025-02-12\n   * __Access date:__ 2025-02-13\n4. __License:__ ICE BofA Indices Release\n5. __Usable:__ Yes\n\n### S&P Case–Shiller Index\n\n1. __Title:__ S&P CoreLogic Case-Shiller U.S. National Home Price Index ([CSUSHPINSA](https://fred.stlouisfed.org/series/CSUSHPINSA))\n2. __URL:__ [https://fred.stlouisfed.org/series/CSUSHPINSA](https://fred.stlouisfed.org/series/CSUSHPINSA)\n3. __Source:__\n   * __Source:__ FRED, the Federal Reserve Bank of St. Louis\n   * __Publisher:__ S&P Dow Jones Indices LLC\n   * __Publication date:__ 2025-01-28\n   * __Access date:__ 2025-02-13\n4. __License:__ S&P CoreLogic Case-Shiller Home Price Indices Release\n5. __Usable:__ Yes\n\n### 10-year U.S. Treasury yield\n\n1. __Title:__ Market Yield on U.S. Treasury Securities at 10-Year Constant Maturity, Quoted on an Investment Basis ([DGS10](https://fred.stlouisfed.org/series/DGS10))\n2. __URL:__ [https://fred.stlouisfed.org/series/DGS10](https://fred.stlouisfed.org/series/DGS10)\n3. __Source:__\n   * __Source:__ FRED, the Federal Reserve Bank of St. Louis\n   * __Publisher:__ Board of Governors of the Federal Reserve System (US)\n   * __Publication date:__ 2025-02-12\n   *  __Access date:__ 2025-02-13\n4. __License:__ H.15 Selected Interest Rates Release\n5. __Usable:__ Yes\n\n### U.S. presidential party\n\n1. __Title:__ List of presidents of the United States\n2. __URL:__ [https://en.wikipedia.org/wiki/List_of_presidents_of_the_United_States](https://en.wikipedia.org/wiki/List_of_presidents_of_the_United_States)\n3. __Source:__\n   * __Source:__ Wikipedia\n   * __Publisher:__ Wikimedia Foundation\n   * __Publication date:__ 2025-02-13\n   *  __Access date:__ 2025-02-13\n4. __License:__ Creative Commons Attribution Share-Alike 4.0 license\n5. __Usable:__ Yes\n\n### Overview\n\n* __Format:__ Comma-delimited (CSV)\n* __Size:__ 2 KB\n* __Observations:__ 38\n\n### Sample",
      "metadata": {}
    },
    {
      "cell_type": "code",
      "source": "from itertools import islice\n\nwith open('data/raw/fredgraph.csv') as stream:\n    for line in islice(stream, 0, 5):\n        print(line, end=\"\")",
      "metadata": {
        "vscode": {
          "languageId": "plaintext"
        },
        "trusted": true
      },
      "outputs": [
        {
          "name": "stdout",
          "output_type": "stream",
          "text": "observation_date,BAMLCC0A0CMTRIV,DGS10,CSUSHPINSA,SP500,Party\n1/1/1987,357.67,8.83,68.342,5.25,R\n1/1/1988,392.57,9.14,73.277,16.61,R\n1/1/1989,447.98,7.93,76.497,31.69,R\n1/1/1990,481,8.08,75.972,-3.1,R\n"
        }
      ],
      "execution_count": 1
    },
    {
      "cell_type": "markdown",
      "source": "### Fields\n\n* __Observation date__ (`observation_date`): `str`\n* __ICE BofA U.S. Corporate Index__ (`BAMLCC0A0CMTRIV`): `Decimal`\n* __10-year U.S. Treasury yield__ (`DGS10`): `Decimal`\n* __S&P Case–Shiller Index__ (`CSUSHPINSA`): `Decimal`\n* __S&P 500 Index returns__ (`SP500`): `Decimal`\n* __ICE BofA U.S. Corporate Index returns__: `Decimal` (calculated column)\n* __S&P Case–Shiller Index returns__: `Decimal` (calculated column)\n* __U.S. presidential party__: `bool`\n\n## Part 2\n\nWe can import these data into a dataframe.",
      "metadata": {}
    },
    {
      "cell_type": "code",
      "source": "from pandas import read_csv\n\ntable = read_csv('data/raw/fredgraph.csv')\n\ntable.head(5)",
      "metadata": {
        "trusted": true
      },
      "outputs": [
        {
          "execution_count": 2,
          "output_type": "execute_result",
          "data": {
            "text/plain": "  observation_date  BAMLCC0A0CMTRIV  DGS10  CSUSHPINSA  SP500 Party\n0         1/1/1987           357.67   8.83      68.342   5.25     R\n1         1/1/1988           392.57   9.14      73.277  16.61     R\n2         1/1/1989           447.98   7.93      76.497  31.69     R\n3         1/1/1990           481.00   8.08      75.972  -3.10     R\n4         1/1/1991           568.73   6.71      75.843  30.47     R",
            "text/html": "<div>\n<style scoped>\n    .dataframe tbody tr th:only-of-type {\n        vertical-align: middle;\n    }\n\n    .dataframe tbody tr th {\n        vertical-align: top;\n    }\n\n    .dataframe thead th {\n        text-align: right;\n    }\n</style>\n<table border=\"1\" class=\"dataframe\">\n  <thead>\n    <tr style=\"text-align: right;\">\n      <th></th>\n      <th>observation_date</th>\n      <th>BAMLCC0A0CMTRIV</th>\n      <th>DGS10</th>\n      <th>CSUSHPINSA</th>\n      <th>SP500</th>\n      <th>Party</th>\n    </tr>\n  </thead>\n  <tbody>\n    <tr>\n      <th>0</th>\n      <td>1/1/1987</td>\n      <td>357.67</td>\n      <td>8.83</td>\n      <td>68.342</td>\n      <td>5.25</td>\n      <td>R</td>\n    </tr>\n    <tr>\n      <th>1</th>\n      <td>1/1/1988</td>\n      <td>392.57</td>\n      <td>9.14</td>\n      <td>73.277</td>\n      <td>16.61</td>\n      <td>R</td>\n    </tr>\n    <tr>\n      <th>2</th>\n      <td>1/1/1989</td>\n      <td>447.98</td>\n      <td>7.93</td>\n      <td>76.497</td>\n      <td>31.69</td>\n      <td>R</td>\n    </tr>\n    <tr>\n      <th>3</th>\n      <td>1/1/1990</td>\n      <td>481.00</td>\n      <td>8.08</td>\n      <td>75.972</td>\n      <td>-3.10</td>\n      <td>R</td>\n    </tr>\n    <tr>\n      <th>4</th>\n      <td>1/1/1991</td>\n      <td>568.73</td>\n      <td>6.71</td>\n      <td>75.843</td>\n      <td>30.47</td>\n      <td>R</td>\n    </tr>\n  </tbody>\n</table>\n</div>"
          },
          "metadata": {}
        }
      ],
      "execution_count": 2
    },
    {
      "cell_type": "markdown",
      "source": "## Part 3\n\nWe will repeat part of our analysis using Pandas. We will normalize the data by parsing dates, expressing rates as decimals, and parsing the political party as an integer. We will also rename columns for brevity and clarity. Finally, we add columns for missing growth rates.",
      "metadata": {}
    },
    {
      "cell_type": "code",
      "source": "from pandas import set_option, to_datetime\n\ntable = table.rename(columns = {\n    'observation_date': 'date',\n    'BAMLCC0A0CMTRIV': 'debt_value',\n    'DGS10': 'free_rate',\n    'CSUSHPINSA': 'real_value',\n    'SP500': 'equity_rate',\n    'Party': 'party'\n})\n\ntable['date'] = to_datetime(table['date'], format = '%m/%d/%Y')\ntable['free_rate'] = table['free_rate'] / 100\ntable['equity_rate'] = table['equity_rate'] / 100\ntable['debt_rate'] = table['debt_value'].pct_change()\ntable['real_rate'] = table['real_value'].pct_change()\n\nset_option('future.no_silent_downcasting', True)\n\ntable['party'] = table['party'].replace({ 'D': 0, 'R': 1 })\n\ntable.head(5)",
      "metadata": {
        "trusted": true
      },
      "outputs": [
        {
          "execution_count": 3,
          "output_type": "execute_result",
          "data": {
            "text/plain": "        date  debt_value  free_rate  real_value  equity_rate party  debt_rate  \\\n0 1987-01-01      357.67     0.0883      68.342       0.0525     1        NaN   \n1 1988-01-01      392.57     0.0914      73.277       0.1661     1   0.097576   \n2 1989-01-01      447.98     0.0793      76.497       0.3169     1   0.141147   \n3 1990-01-01      481.00     0.0808      75.972      -0.0310     1   0.073709   \n4 1991-01-01      568.73     0.0671      75.843       0.3047     1   0.182391   \n\n   real_rate  \n0        NaN  \n1   0.072210  \n2   0.043943  \n3  -0.006863  \n4  -0.001698  ",
            "text/html": "<div>\n<style scoped>\n    .dataframe tbody tr th:only-of-type {\n        vertical-align: middle;\n    }\n\n    .dataframe tbody tr th {\n        vertical-align: top;\n    }\n\n    .dataframe thead th {\n        text-align: right;\n    }\n</style>\n<table border=\"1\" class=\"dataframe\">\n  <thead>\n    <tr style=\"text-align: right;\">\n      <th></th>\n      <th>date</th>\n      <th>debt_value</th>\n      <th>free_rate</th>\n      <th>real_value</th>\n      <th>equity_rate</th>\n      <th>party</th>\n      <th>debt_rate</th>\n      <th>real_rate</th>\n    </tr>\n  </thead>\n  <tbody>\n    <tr>\n      <th>0</th>\n      <td>1987-01-01</td>\n      <td>357.67</td>\n      <td>0.0883</td>\n      <td>68.342</td>\n      <td>0.0525</td>\n      <td>1</td>\n      <td>NaN</td>\n      <td>NaN</td>\n    </tr>\n    <tr>\n      <th>1</th>\n      <td>1988-01-01</td>\n      <td>392.57</td>\n      <td>0.0914</td>\n      <td>73.277</td>\n      <td>0.1661</td>\n      <td>1</td>\n      <td>0.097576</td>\n      <td>0.072210</td>\n    </tr>\n    <tr>\n      <th>2</th>\n      <td>1989-01-01</td>\n      <td>447.98</td>\n      <td>0.0793</td>\n      <td>76.497</td>\n      <td>0.3169</td>\n      <td>1</td>\n      <td>0.141147</td>\n      <td>0.043943</td>\n    </tr>\n    <tr>\n      <th>3</th>\n      <td>1990-01-01</td>\n      <td>481.00</td>\n      <td>0.0808</td>\n      <td>75.972</td>\n      <td>-0.0310</td>\n      <td>1</td>\n      <td>0.073709</td>\n      <td>-0.006863</td>\n    </tr>\n    <tr>\n      <th>4</th>\n      <td>1991-01-01</td>\n      <td>568.73</td>\n      <td>0.0671</td>\n      <td>75.843</td>\n      <td>0.3047</td>\n      <td>1</td>\n      <td>0.182391</td>\n      <td>-0.001698</td>\n    </tr>\n  </tbody>\n</table>\n</div>"
          },
          "metadata": {}
        }
      ],
      "execution_count": 3
    },
    {
      "cell_type": "markdown",
      "source": "We will use these data to compute Sharpe ratios for the three asset classes. We will use arithmetic averages here.",
      "metadata": {}
    },
    {
      "cell_type": "code",
      "source": "free_rate = table['free_rate'].mean()\n\ndef sharpe(rate):\n    return (table[rate].mean() - free_rate) / table[rate].std()\n\nprint(\"Sharpe ratio of equity:\", sharpe('equity_rate'))\nprint(\"Sharpe ratio of debt:\", sharpe('debt_rate'))\nprint(\"Sharpe ratio of real estate:\", sharpe('real_rate'))",
      "metadata": {
        "trusted": true
      },
      "outputs": [
        {
          "name": "stdout",
          "output_type": "stream",
          "text": "Sharpe ratio of equity: 0.4481999383144116\nSharpe ratio of debt: 0.28181579522678896\nSharpe ratio of real estate: -0.0026012943117476673\n"
        }
      ],
      "execution_count": 12
    },
    {
      "cell_type": "markdown",
      "source": "Based on this analysis, equity investments have the highest Sharpe ratio in terms of realized returns.",
      "metadata": {}
    }
  ]
}